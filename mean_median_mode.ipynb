{
 "cells": [
  {
   "cell_type": "code",
   "execution_count": 7,
   "metadata": {},
   "outputs": [
    {
     "name": "stdout",
     "output_type": "stream",
     "text": [
      "71.46666666666667\n"
     ]
    }
   ],
   "source": [
    "import numpy as np\n",
    "from scipy import stats\n",
    "\n",
    "#array of heart rate data of 15 people\n",
    "heart_rates = [80,79,70,66,77,65,71,78,66,68,67,64,71,82,68]\n",
    "\n",
    "#find the mean of the heart rates\n",
    "mean_heart_rate = np.mean(heart_rates)\n",
    "\n",
    "print(mean_heart_rate)"
   ]
  },
  {
   "cell_type": "code",
   "execution_count": 4,
   "metadata": {},
   "outputs": [
    {
     "name": "stdout",
     "output_type": "stream",
     "text": [
      "70.0\n"
     ]
    }
   ],
   "source": [
    "#find the meadian value of heart_rates\n",
    "median_heart_rate = np.median(heart_rates)\n",
    "print(median_heart_rate)"
   ]
  },
  {
   "cell_type": "code",
   "execution_count": 12,
   "metadata": {},
   "outputs": [
    {
     "name": "stdout",
     "output_type": "stream",
     "text": [
      "ModeResult(mode=array([66]), count=array([2]))\n",
      "66\n",
      "2\n"
     ]
    }
   ],
   "source": [
    "#find the mode value of heart_rates\n",
    "mode_heart_rate = stats.mode(heart_rates)\n",
    "print(mode_heart_rate)\n",
    "print(mode_heart_rate[0][0])\n",
    "print(mode_heart_rate[1][0])"
   ]
  },
  {
   "cell_type": "code",
   "execution_count": null,
   "metadata": {},
   "outputs": [],
   "source": []
  }
 ],
 "metadata": {
  "kernelspec": {
   "display_name": "Python 3",
   "language": "python",
   "name": "python3"
  },
  "language_info": {
   "codemirror_mode": {
    "name": "ipython",
    "version": 3
   },
   "file_extension": ".py",
   "mimetype": "text/x-python",
   "name": "python",
   "nbconvert_exporter": "python",
   "pygments_lexer": "ipython3",
   "version": "3.8.5"
  }
 },
 "nbformat": 4,
 "nbformat_minor": 4
}
