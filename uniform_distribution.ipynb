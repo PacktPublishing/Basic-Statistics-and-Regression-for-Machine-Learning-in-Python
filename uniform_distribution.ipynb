{
 "cells": [
  {
   "cell_type": "code",
   "execution_count": 6,
   "metadata": {},
   "outputs": [],
   "source": [
    "import numpy as np\n",
    "import matplotlib.pyplot as plt"
   ]
  },
  {
   "cell_type": "code",
   "execution_count": 10,
   "metadata": {},
   "outputs": [
    {
     "name": "stdout",
     "output_type": "stream",
     "text": [
      "[ 89 119 104  72  69  99 102 115  90 111  88  63  65  70  72  87 118  97\n",
      "  76  83 106  76  71 103  95  77 106  70  60  97 117 100  76  69 101  84\n",
      "  82 119  72  78 107  66  67  77 112 100  80 119  62 104  92 110  72  74\n",
      "  99 116  97  98  83  93  88  80  99  96 118 112  83  65  84  65  60 104\n",
      "  70  71  98  80  63  75  88  72  80 114 120  63 113  68  90  74  99  61\n",
      " 113  63  80 107  77  65  66 117  80  99  76 101 105  62  97 113  66  68\n",
      " 107  60 108  69 110  84  95  79 107  85  78  67  61  68  68 102  65 110\n",
      " 108 106  88  89  77  83 116 107  86  67 120  97 113  70  92  84 114  65\n",
      "  81  76  67 105 108  93  82  73  86  71 115  69  78  75 111  75  91  92\n",
      "  74  78  64 102 110  86  61  61  83  79  74  78 116  76  84  63 108  69\n",
      " 119  95  99  79  91 111 115  85  75 104  98 105  72  86  86  70  66 108\n",
      "  78  60  77 110 111  60  65  94  70  95  62 113  80  88 115  67 120 115\n",
      "  91 112  72  73  75  73  74 102  60 110  81 107  70  68  70  69 118 112\n",
      "  85 112 105  94  74  77  60  75  94  90 111  78  87  95  91 100  99  93\n",
      "  92  98 116  84  77  86  95 103  92  98 114  71 100  97 109 100  82  73\n",
      "  94  90 106 110  85  75 118  77 109  84  78 107  83  88 119 119  72  97\n",
      "  86  88  64  64 107  98 102  86 100 109  61  72  98 105 107  88  69 118\n",
      "  82  73  68  62 114  73  97  77  92  67  94  92 101  78  84 107  93  67\n",
      "  66 104  92 116  75 108 100  80  79 113  75  83  60 103  75  63  76  89\n",
      "  96  68 111  79  75  94 111  73 118  65 117  98  64 107  69  96  84  67\n",
      " 104 118 118  67  62 120  91 111  98 117  63  85 118 106 113  90  83  64\n",
      " 116  92  97  66 108  69 103  74  70  68 120  83  94  79 118  97  71 110\n",
      "  75  73  98 109  66  74  72  70 111 112  99  76  99  77  64 105  74 116\n",
      "  74  62  80  98  98  72  75  97 113  78  87 118 110  81  81  92  75 102\n",
      " 115 111  89  91  64  76 120 105 114  86  68 119  81  70  92 104 105  68\n",
      "  78  96 119  71 106  60  76 108  93  62  79  92  65  67 109  60  99  75\n",
      " 103  99 100  61  82  72  71  62  63  66  91  87  70  72  71  93  73  62\n",
      " 106  89  68  71  77  99 114 119 104  75  79  69 119  73]\n"
     ]
    }
   ],
   "source": [
    "#generate a uniformly distributed data set as an array\n",
    "#generating 500 random values ranging from 60 to 120\n",
    "#heart_rates = np.random.uniform(60,120,500)\n",
    "heart_rates = np.random.randint(60,120+1,500)\n",
    "print(heart_rates)"
   ]
  },
  {
   "cell_type": "code",
   "execution_count": 11,
   "metadata": {},
   "outputs": [
    {
     "data": {
      "image/png": "[encoded data removed]",
      "text/plain": [
       "<Figure size 432x288 with 1 Axes>"
      ]
     },
     "metadata": {
      "needs_background": "light"
     },
     "output_type": "display_data"
    }
   ],
   "source": [
    "# plot a historgram with heart rate over x axis and no of occurences over y axis\n",
    "# creating a historgram with 60 bars in the plot\n",
    "plt.hist(heart_rates,60)\n",
    "plt.show()"
   ]
  },
  {
   "cell_type": "code",
   "execution_count": null,
   "metadata": {},
   "outputs": [],
   "source": []
  }
 ],
 "metadata": {
  "kernelspec": {
   "display_name": "Python 3",
   "language": "python",
   "name": "python3"
  },
  "language_info": {
   "codemirror_mode": {
    "name": "ipython",
    "version": 3
   },
   "file_extension": ".py",
   "mimetype": "text/x-python",
   "name": "python",
   "nbconvert_exporter": "python",
   "pygments_lexer": "ipython3",
   "version": "3.8.5"
  }
 },
 "nbformat": 4,
 "nbformat_minor": 4
}
