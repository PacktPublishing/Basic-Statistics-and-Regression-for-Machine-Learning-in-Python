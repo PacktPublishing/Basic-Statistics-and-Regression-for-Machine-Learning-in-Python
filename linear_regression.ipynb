{
 "cells": [
  {
   "cell_type": "code",
   "execution_count": 15,
   "metadata": {},
   "outputs": [],
   "source": [
    "import matplotlib.pyplot as plt\n",
    "import scipy.stats as stats\n"
   ]
  },
  {
   "cell_type": "code",
   "execution_count": 16,
   "metadata": {},
   "outputs": [
    {
     "data": {
      "text/plain": [
       "'\\n#data with worst fit\\nage_x = [4,6,7,6,1,16,1,8,3,10,11,8,5]\\ncapacity_y = [63,9,99,62,25,14,35,48,36,1,254,2,63]\\n'"
      ]
     },
     "execution_count": 16,
     "metadata": {},
     "output_type": "execute_result"
    }
   ],
   "source": [
    "# define the x and y arrays\n",
    "# data with medium fit\n",
    "age_x = [4,6,7,6,1,16,1,8,3,10,11,8,5]\n",
    "capacity_y = [98,85,86,89,112,85,101,84,93,79,76,82,81]\n",
    "\n",
    "'''\n",
    "#data with best fit\n",
    "age_x = [4,6,7,6,1,16,1,8,3,10,11,8,5]\n",
    "capacity_y = [14,35,48,36,1,254,2,63,9,99,120,62,25]\n",
    "'''\n",
    "\n",
    "'''\n",
    "#data with worst fit\n",
    "age_x = [4,6,7,6,1,16,1,8,3,10,11,8,5]\n",
    "capacity_y = [63,9,99,62,25,14,35,48,36,1,254,2,63]\n",
    "'''"
   ]
  },
  {
   "cell_type": "code",
   "execution_count": 17,
   "metadata": {},
   "outputs": [],
   "source": [
    "#calculating linear regression using linregress() function\n",
    "slope, intercept, r, p , std_error = stats.linregress(age_x,capacity_y)"
   ]
  },
  {
   "cell_type": "code",
   "execution_count": 18,
   "metadata": {},
   "outputs": [],
   "source": [
    "def find_new_y(x):\n",
    "    #find the value of y = mx+b from the given x value\n",
    "    y = slope*x + intercept\n",
    "    return y"
   ]
  },
  {
   "cell_type": "code",
   "execution_count": 19,
   "metadata": {},
   "outputs": [],
   "source": [
    "# for every value of x in the array, find the new y value and save as a list\n",
    "new_y_values = list(map(find_new_y, age_x))"
   ]
  },
  {
   "cell_type": "code",
   "execution_count": 20,
   "metadata": {},
   "outputs": [
    {
     "data": {
      "image/png": "[encoded data removed]",
      "text/plain": [
       "<Figure size 432x288 with 1 Axes>"
      ]
     },
     "metadata": {
      "needs_background": "light"
     },
     "output_type": "display_data"
    }
   ],
   "source": [
    "#plotting the original data as scatter plot\n",
    "#plotting the line of regression\n",
    "#draw the scatter plot\n",
    "plt.scatter(age_x, capacity_y, label='original data')\n",
    "plt.plot(age_x, new_y_values, 'r', label='fitted line')\n",
    "plt.legend()\n",
    "plt.show()"
   ]
  },
  {
   "cell_type": "code",
   "execution_count": 21,
   "metadata": {},
   "outputs": [
    {
     "name": "stdout",
     "output_type": "stream",
     "text": [
      "r value = -0.7247302493906514\n"
     ]
    }
   ],
   "source": [
    "print(\"r value = \"+str(r))"
   ]
  },
  {
   "cell_type": "code",
   "execution_count": 22,
   "metadata": {
    "scrolled": true
   },
   "outputs": [
    {
     "name": "stdout",
     "output_type": "stream",
     "text": [
      "predicted capacity is 73.88852097130243\n"
     ]
    }
   ],
   "source": [
    "#predict the production capacity for a 15 year old machine\n",
    "predicted_capacity_y = find_new_y(15)\n",
    "print(\"predicted capacity is \"+str(predicted_capacity_y))"
   ]
  },
  {
   "cell_type": "code",
   "execution_count": null,
   "metadata": {},
   "outputs": [],
   "source": []
  }
 ],
 "metadata": {
  "kernelspec": {
   "display_name": "Python 3",
   "language": "python",
   "name": "python3"
  },
  "language_info": {
   "codemirror_mode": {
    "name": "ipython",
    "version": 3
   },
   "file_extension": ".py",
   "mimetype": "text/x-python",
   "name": "python",
   "nbconvert_exporter": "python",
   "pygments_lexer": "ipython3",
   "version": "3.8.5"
  }
 },
 "nbformat": 4,
 "nbformat_minor": 4
}
