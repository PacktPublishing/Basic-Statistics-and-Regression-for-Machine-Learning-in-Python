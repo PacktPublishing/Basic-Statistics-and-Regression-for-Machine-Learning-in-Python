{
 "cells": [
  {
   "cell_type": "code",
   "execution_count": 1,
   "metadata": {},
   "outputs": [],
   "source": [
    "import pandas\n",
    "import seaborn as sns\n",
    "from sklearn import linear_model\n",
    "from sklearn.metrics import r2_score\n",
    "from sklearn.preprocessing import StandardScaler\n",
    "import numpy as np"
   ]
  },
  {
   "cell_type": "code",
   "execution_count": 2,
   "metadata": {},
   "outputs": [],
   "source": [
    "#reading the csv file\n",
    "internet_dataframe = pandas.read_csv(\"internet.csv\")"
   ]
  },
  {
   "cell_type": "code",
   "execution_count": 3,
   "metadata": {},
   "outputs": [],
   "source": [
    "#print(internet_dataframe)"
   ]
  },
  {
   "cell_type": "code",
   "execution_count": 9,
   "metadata": {},
   "outputs": [
    {
     "name": "stdout",
     "output_type": "stream",
     "text": [
      "    Hour  Users\n",
      "0      1    530\n",
      "1      2    590\n",
      "2      3    600\n",
      "3      5    601\n",
      "4      6    633\n",
      "5      7    790\n",
      "6      8    900\n",
      "7      9   1000\n",
      "8     10   1010\n",
      "9     12    989\n",
      "10    13    989\n",
      "11    14    880\n",
      "12    15    795\n",
      "13    16    769\n",
      "14    18    768\n",
      "15    19    763\n",
      "16    21    693\n",
      "17    22    699\n"
     ]
    }
   ],
   "source": [
    "#save independent values in X and dependent in y\n",
    "X = internet_dataframe[['Hour','Users']]\n",
    "y = internet_dataframe['Speed']\n",
    "print(X)"
   ]
  },
  {
   "cell_type": "code",
   "execution_count": 8,
   "metadata": {},
   "outputs": [
    {
     "name": "stdout",
     "output_type": "stream",
     "text": [
      "[[-1.60249116 -1.63614608]\n",
      " [-1.44486908 -1.23986042]\n",
      " [-1.287247   -1.17381281]\n",
      " [-0.97200283 -1.16720805]\n",
      " [-0.81438075 -0.9558557 ]\n",
      " [-0.65675867  0.08109179]\n",
      " [-0.49913659  0.8076155 ]\n",
      " [-0.34151451  1.46809161]\n",
      " [-0.18389243  1.53413922]\n",
      " [ 0.13135173  1.39543924]\n",
      " [ 0.28897382  1.39543924]\n",
      " [ 0.4465959   0.67552028]\n",
      " [ 0.60421798  0.11411559]\n",
      " [ 0.76184006 -0.05760819]\n",
      " [ 1.07708422 -0.06421295]\n",
      " [ 1.2347063  -0.09723676]\n",
      " [ 1.54995047 -0.55957003]\n",
      " [ 1.70757255 -0.51994147]]\n"
     ]
    }
   ],
   "source": [
    "# scaling the original X using standard Scalar\n",
    "stdscale = StandardScaler()\n",
    "X_scaled = stdscale.fit_transform(X)\n",
    "print(X_scaled)"
   ]
  },
  {
   "cell_type": "code",
   "execution_count": null,
   "metadata": {},
   "outputs": [],
   "source": [
    "#print(y)"
   ]
  },
  {
   "cell_type": "code",
   "execution_count": 10,
   "metadata": {},
   "outputs": [
    {
     "data": {
      "text/plain": [
       "<AxesSubplot:>"
      ]
     },
     "execution_count": 10,
     "metadata": {},
     "output_type": "execute_result"
    },
    {
     "data": {
      "image/png": "[encoded data removed]",
      "text/plain": [
       "<Figure size 432x288 with 1 Axes>"
      ]
     },
     "metadata": {
      "needs_background": "light"
     },
     "output_type": "display_data"
    }
   ],
   "source": [
    "sns.scatterplot(x=X_scaled[:,0], y=X_scaled[:,1], hue=internet_dataframe['Speed'] )"
   ]
  },
  {
   "cell_type": "code",
   "execution_count": 11,
   "metadata": {},
   "outputs": [
    {
     "data": {
      "text/plain": [
       "LinearRegression()"
      ]
     },
     "execution_count": 11,
     "metadata": {},
     "output_type": "execute_result"
    }
   ],
   "source": [
    "#create the regression model object and fit the data into it\n",
    "reg_obj = linear_model.LinearRegression()\n",
    "\n",
    "reg_obj.fit(X_scaled,y)"
   ]
  },
  {
   "cell_type": "code",
   "execution_count": 12,
   "metadata": {},
   "outputs": [
    {
     "name": "stdout",
     "output_type": "stream",
     "text": [
      "[[ 1.70757255 -0.18309865]]\n"
     ]
    }
   ],
   "source": [
    "#transforming the values for prediction to match the scaled independent features\n",
    "scaled_X_for_prediction = stdscale.transform([[22,750]])\n",
    "print(scaled_X_for_prediction)"
   ]
  },
  {
   "cell_type": "code",
   "execution_count": 13,
   "metadata": {},
   "outputs": [
    {
     "name": "stdout",
     "output_type": "stream",
     "text": [
      "Predicted Speed : \n",
      "[95.01460565]\n"
     ]
    }
   ],
   "source": [
    "#predict the speed at 20:00 hours in the evening and with 750 users online\n",
    "predicted_speed = reg_obj.predict([scaled_X_for_prediction[0]])\n",
    "print(\"Predicted Speed : \")\n",
    "print(predicted_speed)"
   ]
  },
  {
   "cell_type": "code",
   "execution_count": null,
   "metadata": {},
   "outputs": [],
   "source": []
  }
 ],
 "metadata": {
  "kernelspec": {
   "display_name": "Python 3",
   "language": "python",
   "name": "python3"
  },
  "language_info": {
   "codemirror_mode": {
    "name": "ipython",
    "version": 3
   },
   "file_extension": ".py",
   "mimetype": "text/x-python",
   "name": "python",
   "nbconvert_exporter": "python",
   "pygments_lexer": "ipython3",
   "version": "3.8.5"
  }
 },
 "nbformat": 4,
 "nbformat_minor": 4
}
